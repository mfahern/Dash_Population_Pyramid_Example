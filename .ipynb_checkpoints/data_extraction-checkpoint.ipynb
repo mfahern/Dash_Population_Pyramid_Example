{
 "cells": [
  {
   "cell_type": "code",
   "execution_count": 1,
   "id": "627ef0ca-cc38-4a17-8bfd-fd88f339ed69",
   "metadata": {},
   "outputs": [],
   "source": [
    "import pandas as pd\n",
    "import os"
   ]
  },
  {
   "cell_type": "code",
   "execution_count": 30,
   "id": "be388bd2-12a5-497d-9df9-42dd03f4d12b",
   "metadata": {},
   "outputs": [],
   "source": [
    "data_estimates_male = pd.read_excel(\"./data/WPP2022_POP_F02_2_POPULATION_5-YEAR_AGE_GROUPS_MALE.xlsx\", header=16)\n",
    "data_projections_male = pd.read_excel(\"./data/WPP2022_POP_F02_2_POPULATION_5-YEAR_AGE_GROUPS_MALE.xlsx\", sheet_name=\"Medium variant\", header=16)\n",
    "\n",
    "data_estimates_female = pd.read_excel(\"./data/WPP2022_POP_F02_3_POPULATION_5-YEAR_AGE_GROUPS_FEMALE.xlsx\", header=16)\n",
    "data_projections_female = pd.read_excel(\"./data/WPP2022_POP_F02_3_POPULATION_5-YEAR_AGE_GROUPS_FEMALE.xlsx\", sheet_name=\"Medium variant\", header=16)"
   ]
  },
  {
   "cell_type": "code",
   "execution_count": 31,
   "id": "44bb8d82-45c8-4025-9fbd-849c3309aa99",
   "metadata": {},
   "outputs": [],
   "source": [
    "projections_estimates_male = pd.concat([data_estimates_male, data_projections_male])\n",
    "projections_estimates_female = pd.concat([data_estimates_female, data_projections_female])"
   ]
  },
  {
   "cell_type": "code",
   "execution_count": 34,
   "id": "976072bf-10b0-4734-9533-3155cc14bc05",
   "metadata": {},
   "outputs": [],
   "source": [
    "drop_list = [\"Notes\", \"Location code\", \"ISO3 Alpha-code\", \"ISO2 Alpha-code\", \"SDMX code**\", \"Type\", \"Parent code\"]\n",
    "projections_estimates_male = projections_estimates_male.drop(columns = drop_list)\n",
    "projections_estimates_female = projections_estimates_female.drop(columns = drop_list)"
   ]
  },
  {
   "cell_type": "code",
   "execution_count": 37,
   "id": "d3f89fb2-f782-435f-b945-6de8a9cbee1a",
   "metadata": {},
   "outputs": [],
   "source": [
    "China_male_pop_estimates = projections_estimates_male.loc[projections_estimates_male[\"Region, subregion, country or area *\"] == \"China\"]\n",
    "China_female_pop_estimates = projections_estimates_female.loc[projections_estimates_female[\"Region, subregion, country or area *\"] == \"China\"]"
   ]
  },
  {
   "cell_type": "code",
   "execution_count": 88,
   "id": "5119417f-b63a-499f-ba99-4a37234c3cf9",
   "metadata": {},
   "outputs": [],
   "source": [
    "China_male_pop_estimates_T = China_male_pop_estimates.iloc[:,4:].T\n",
    "China_female_pop_estimates_T = China_female_pop_estimates.iloc[:,4:].T"
   ]
  },
  {
   "cell_type": "code",
   "execution_count": 66,
   "id": "f947174e-0778-46b2-abca-621a8bab06f3",
   "metadata": {},
   "outputs": [],
   "source": [
    "China_pop_estimates = pd.DataFrame(columns=[\"Time\",\"Age\",\"Sex\",\"Value\",\"Country\"])"
   ]
  },
  {
   "cell_type": "code",
   "execution_count": 151,
   "id": "f206829e-b988-45f0-8ee0-dfd4620294a9",
   "metadata": {},
   "outputs": [],
   "source": [
    "male_values_list = []\n",
    "male_ages_list = []\n",
    "for i in China_male_pop_estimates_T.columns:\n",
    "    male_temp_ages_list = [4,9,14,19,24,29,34,39,44,49,54,59,64,69,74,79,84,89,94,99,100]\n",
    "    male_temp_values_list = China_male_pop_estimates_T[i].to_list()\n",
    "    male_values_list = male_values_list + male_temp_values_list\n",
    "    male_ages_list = male_ages_list + male_temp_ages_list\n",
    "\n",
    "female_values_list = []\n",
    "female_ages_list = []\n",
    "for i in China_female_pop_estimates_T.columns:\n",
    "    female_temp_ages_list = [4,9,14,19,24,29,34,39,44,49,54,59,64,69,74,79,84,89,94,99,100]\n",
    "    female_temp_values_list = China_female_pop_estimates_T[i].to_list()\n",
    "    female_values_list = female_values_list + female_temp_values_list\n",
    "    female_ages_list = female_ages_list + female_temp_ages_list"
   ]
  },
  {
   "cell_type": "code",
   "execution_count": 152,
   "id": "7cb62ff5-415c-4979-bfc8-a9b9d19509c9",
   "metadata": {},
   "outputs": [],
   "source": [
    "year_list = []\n",
    "country_list = []\n",
    "male_list = []\n",
    "female_list = []\n",
    "for i in range(1950,2101):\n",
    "    for j in range(0,21):\n",
    "        year_list.append(i)\n",
    "        country_list.append(\"China\")\n",
    "        male_list.append(\"Male\")\n",
    "        female_list.append(\"Female\")"
   ]
  },
  {
   "cell_type": "code",
   "execution_count": 153,
   "id": "d5516dfa-11db-4ed6-90ac-b391bba8ef06",
   "metadata": {},
   "outputs": [],
   "source": [
    "China_male_pop_estimates_columns = pd.DataFrame(columns=[\"Time\",\"Age\",\"Sex\",\"Value\",\"Country\"])\n",
    "China_male_pop_estimates_columns[\"Time\"] = year_list\n",
    "China_male_pop_estimates_columns[\"Country\"] = country_list\n",
    "China_male_pop_estimates_columns[\"Value\"] = male_values_list\n",
    "China_male_pop_estimates_columns[\"Age\"] = male_ages_list\n",
    "China_male_pop_estimates_columns[\"Sex\"] = male_list\n",
    "\n",
    "China_female_pop_estimates_columns = pd.DataFrame(columns=[\"Time\",\"Age\",\"Sex\",\"Value\",\"Country\"])\n",
    "China_female_pop_estimates_columns[\"Time\"] = year_list\n",
    "China_female_pop_estimates_columns[\"Country\"] = country_list\n",
    "China_female_pop_estimates_columns[\"Value\"] = female_values_list\n",
    "China_female_pop_estimates_columns[\"Age\"] = female_ages_list\n",
    "China_female_pop_estimates_columns[\"Sex\"] = female_list\n",
    "\n",
    "China_pop_estimates_columns = pd.concat([China_male_pop_estimates_columns, China_female_pop_estimates_columns])"
   ]
  },
  {
   "cell_type": "code",
   "execution_count": 154,
   "id": "29d847e2-20c6-4ff5-a1ea-37f346df330c",
   "metadata": {},
   "outputs": [],
   "source": [
    "China_pop_estimates_columns.to_csv(\"./data/China_pop_estimates_columns.csv\")"
   ]
  },
  {
   "cell_type": "code",
   "execution_count": null,
   "id": "4a59a755-bede-475b-b295-e6573e35300f",
   "metadata": {},
   "outputs": [],
   "source": []
  }
 ],
 "metadata": {
  "kernelspec": {
   "display_name": "Python 3 (ipykernel)",
   "language": "python",
   "name": "python3"
  },
  "language_info": {
   "codemirror_mode": {
    "name": "ipython",
    "version": 3
   },
   "file_extension": ".py",
   "mimetype": "text/x-python",
   "name": "python",
   "nbconvert_exporter": "python",
   "pygments_lexer": "ipython3",
   "version": "3.10.1"
  }
 },
 "nbformat": 4,
 "nbformat_minor": 5
}
